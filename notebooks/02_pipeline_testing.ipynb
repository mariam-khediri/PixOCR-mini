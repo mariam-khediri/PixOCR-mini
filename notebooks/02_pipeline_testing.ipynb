{
 "cells": [
  {
   "cell_type": "markdown",
   "id": "be8ce4b2-08cf-4b68-b5ce-3d130cbe58e3",
   "metadata": {},
   "source": [
    "##### 1. import and setup"
   ]
  },
  {
   "cell_type": "code",
   "execution_count": 6,
   "id": "ac1289bd-d3b4-4c6c-a84d-dd71bc7560cf",
   "metadata": {},
   "outputs": [],
   "source": [
    "import sys\n",
    "import os\n",
    "sys.path.append(os.path.abspath(\"..\"))"
   ]
  },
  {
   "cell_type": "code",
   "execution_count": 7,
   "id": "d5bab44c-0a73-4131-873e-b7e7646b87d3",
   "metadata": {},
   "outputs": [
    {
     "name": "stdout",
     "output_type": "stream",
     "text": [
      "['data', 'notebooks', 'outputs', 'README.md', 'requirements.txt', 'src', 'venv']\n"
     ]
    }
   ],
   "source": [
    "print(os.listdir(\"..\"))  # should list folders like 'src', 'data', etc."
   ]
  },
  {
   "cell_type": "code",
   "execution_count": 8,
   "id": "525bd889-4c4a-4469-b9ee-61424854be5e",
   "metadata": {},
   "outputs": [],
   "source": [
    "import cv2\n",
    "import matplotlib.pyplot as plt\n",
    "from PIL import Image\n",
    "from src.preprocessing.preprocess import ocr_pipeline"
   ]
  },
  {
   "cell_type": "markdown",
   "id": "47edf64b-3797-4e72-b46f-f1e565b10b12",
   "metadata": {},
   "source": [
    "##### 2. load a sample image"
   ]
  },
  {
   "cell_type": "code",
   "execution_count": 14,
   "id": "31f12000-79fe-4188-a0a9-73f1ad7fac5e",
   "metadata": {},
   "outputs": [],
   "source": [
    "img_path = \"https://upload.wikimedia.org/wikipedia/commons/thumb/1/1b/Typeface_specimen_OCR_A.svg/800px-Typeface_specimen_OCR_A.svg.png\"\n",
    "image = cv2.imread(img_path)"
   ]
  },
  {
   "cell_type": "markdown",
   "id": "fcc8ce08-da53-4d47-a769-d2f4a4770c10",
   "metadata": {},
   "source": [
    "##### 3. run through the pipeline"
   ]
  },
  {
   "cell_type": "code",
   "execution_count": 17,
   "id": "aac1270e-406b-43b3-81fd-396f6cc4b121",
   "metadata": {},
   "outputs": [
    {
     "ename": "ValueError",
     "evalue": "too many values to unpack (expected 2)",
     "output_type": "error",
     "traceback": [
      "\u001b[31m---------------------------------------------------------------------------\u001b[39m",
      "\u001b[31mValueError\u001b[39m                                Traceback (most recent call last)",
      "\u001b[36mCell\u001b[39m\u001b[36m \u001b[39m\u001b[32mIn[17]\u001b[39m\u001b[32m, line 6\u001b[39m\n\u001b[32m      3\u001b[39m results = ocr_pipeline(url)\n\u001b[32m      5\u001b[39m \u001b[38;5;66;03m# Access one method’s result\u001b[39;00m\n\u001b[32m----> \u001b[39m\u001b[32m6\u001b[39m processed_image, extracted_text = results[\u001b[33m\"\u001b[39m\u001b[33mgrayscale\u001b[39m\u001b[33m\"\u001b[39m]\n\u001b[32m      8\u001b[39m \u001b[38;5;66;03m# Visualize\u001b[39;00m\n\u001b[32m      9\u001b[39m plt.imshow(processed_image, cmap=\u001b[33m'\u001b[39m\u001b[33mgray\u001b[39m\u001b[33m'\u001b[39m)\n",
      "\u001b[31mValueError\u001b[39m: too many values to unpack (expected 2)"
     ]
    }
   ],
   "source": [
    "# Example with URL\n",
    "url = \"https://upload.wikimedia.org/wikipedia/commons/thumb/1/1b/Typeface_specimen_OCR_A.svg/1200px-Typeface_specimen_OCR_A.svg.png\"\n",
    "results = ocr_pipeline(url)\n",
    "\n",
    "# Access one method’s result\n",
    "processed_image, extracted_text = results[\"grayscale\"]\n",
    "\n",
    "# Visualize\n",
    "plt.imshow(processed_image, cmap='gray')\n",
    "plt.axis('off')\n",
    "plt.title(\"Grayscale OCR Result\")\n",
    "plt.show()\n",
    "\n",
    "print(\"Extracted Text:\\n\", extracted_text)\n"
   ]
  },
  {
   "cell_type": "markdown",
   "id": "9715e7bd-5ac5-4d0f-b5a5-74065ad6aa1f",
   "metadata": {},
   "source": [
    "##### 4. compare results across techniques "
   ]
  },
  {
   "cell_type": "code",
   "execution_count": 13,
   "id": "a2cc863d-fe2b-4c10-9aa0-37ef9f26f39f",
   "metadata": {},
   "outputs": [],
   "source": [
    "from src.preprocessing.preprocess import (\n",
    "    preprocess_grayscale, \n",
    "    preprocess_adaptive_threshold,\n",
    "    preprocess_inverted, \n",
    "    preprocess_color_mask)"
   ]
  },
  {
   "cell_type": "code",
   "execution_count": null,
   "id": "7fb1b57c-492c-4867-851d-dacb71633c95",
   "metadata": {},
   "outputs": [],
   "source": []
  }
 ],
 "metadata": {
  "kernelspec": {
   "display_name": "OCR Env",
   "language": "python",
   "name": "ocr-env"
  },
  "language_info": {
   "codemirror_mode": {
    "name": "ipython",
    "version": 3
   },
   "file_extension": ".py",
   "mimetype": "text/x-python",
   "name": "python",
   "nbconvert_exporter": "python",
   "pygments_lexer": "ipython3",
   "version": "3.12.4"
  }
 },
 "nbformat": 4,
 "nbformat_minor": 5
}
